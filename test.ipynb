{
 "cells": [
  {
   "cell_type": "code",
   "execution_count": 1,
   "metadata": {},
   "outputs": [
    {
     "name": "stderr",
     "output_type": "stream",
     "text": [
      "c:\\ProgramData\\anaconda3\\Lib\\site-packages\\transformers\\utils\\generic.py:260: FutureWarning: `torch.utils._pytree._register_pytree_node` is deprecated. Please use `torch.utils._pytree.register_pytree_node` instead.\n",
      "  torch.utils._pytree._register_pytree_node(\n"
     ]
    }
   ],
   "source": [
    "import requests\n",
    "from exa_py import Exa\n",
    "import webbrowser\n",
    "import torch\n",
    "from transformers import pipeline\n",
    "from huggingface_hub import InferenceClient\n",
    "from joblib import load, dump\n",
    "from pathlib import Path\n",
    "from collections import Counter\n",
    "import json"
   ]
  },
  {
   "cell_type": "code",
   "execution_count": 2,
   "metadata": {},
   "outputs": [],
   "source": [
    "# Keys and inits\n",
    "with open(\"_keys.json\", 'r') as f:\n",
    "    keys = json.load(f)  # Loading keys from _keys.json file\n",
    "\n",
    "EXA_KEY = keys[\"EXA_KEY\"]\n",
    "HF_KEY = keys[\"HF_KEY\"]"
   ]
  },
  {
   "cell_type": "code",
   "execution_count": 16,
   "metadata": {},
   "outputs": [],
   "source": [
    "def brainstorm(query, messages=[]):\n",
    "\n",
    "    if len(messages) < 1: # Creating initial prompts to start the brainstorming session\n",
    "        system_instruction_init = f\"\"\"\n",
    "        You are a helpful AI research assistant named furhatos-sama.\n",
    "        Your task is to help the user brainstorm creatively through suggesstions, possibilities and discussions. \n",
    "\n",
    "        Instructions for response:\n",
    "        1. Adjust the session according to each new query of the user.\n",
    "        2. Your aim is to help the user think creatively from different perspectives.\n",
    "        3. All messages must be short. There should be no pointwise text in the message.\n",
    "        4. Do not include any kind of special characters.\n",
    "        5. Each message will be converted to speech using a text to speech synthesizer so the messages must be formatted accordingly.\n",
    "        6. This will be a conversational flow, so you can ask questions to the user as well.\n",
    "        7. Always speak with a first person POV.\n",
    "        8. Do not insert any tags such as <think> in the output.\n",
    "        \"\"\"\n",
    "        user_prompt_init = f\"I need help with brainstorming. Following is my query {query}.\"\n",
    "\n",
    "        messages = [\n",
    "            {\n",
    "                \"role\": \"system\",\n",
    "                \"content\": system_instruction_init,\n",
    "            },\n",
    "            {\"role\": \"user\", \"content\": user_prompt_init},\n",
    "        ]\n",
    "    else:  # Continuing conversation \n",
    "        messages.append({\"role\": \"user\", \"content\": query})\n",
    "\n",
    "    # Querying hugging face LLM using an Inference Client\n",
    "    client = InferenceClient(api_key=HF_KEY, provider=\"together\")\n",
    "    completion = client.chat.completions.create(\n",
    "    model=\"deepseek-ai/DeepSeek-V3\", messages=messages, max_tokens=500\n",
    "    )\n",
    "    # completion = client.chat.completions.create(\n",
    "    #     model=\"HuggingFaceH4/zephyr-7b-beta\", messages=messages, max_tokens=500\n",
    "    # )\n",
    "\n",
    "    # Processing responce for approapriate TTS by furhat\n",
    "    llm_response = completion.choices[0].message\n",
    "    fur_response = llm_response.content.lower().replace(\"furhatos-sama:\", \" \").replace(\"\\n\", \" \")\n",
    "\n",
    "    print(llm_response)\n",
    "\n",
    "    # Appending response to messages\n",
    "    messages.append({\"role\": \"system\", \"content\": fur_response})\n",
    "\n",
    "    return llm_response, fur_response, messages"
   ]
  },
  {
   "cell_type": "code",
   "execution_count": 17,
   "metadata": {},
   "outputs": [
    {
     "name": "stdout",
     "output_type": "stream",
     "text": [
      "ChatCompletionOutputMessage(role='assistant', content='Great topic Let’s explore this. How about focusing on predictive analytics for disease outbreaks using machine learning? You could analyze patterns in health data to predict where outbreaks might occur next. What do you think?', tool_calls=[])\n"
     ]
    }
   ],
   "source": [
    "query = \"I want to work on intersection of ML and Healthcare. Help me think of some good research ideas.\"\n",
    "llm_response, fur_response, messages = brainstorm(query = query, messages=[])"
   ]
  },
  {
   "cell_type": "code",
   "execution_count": 5,
   "metadata": {},
   "outputs": [
    {
     "data": {
      "text/plain": [
       "\"<think> okay, the user wants to brainstorm research ideas at the intersection of ml and healthcare. let me start by recalling some current trends and challenges in both fields. ml in healthcare is a broad area, so narrowing down might be necessary. first, i should consider what aspects of healthcare could benefit most from ml. areas like diagnostics, treatment personalization, predictive analytics, medical imaging, drug discovery, and patient monitoring come to mind.  diagnostics is a big one. ml models can analyze medical images or genetic data to detect diseases early. maybe exploring how to make these models more interpretable for doctors could be a good angle. then there's personalized treatment. using patient data to tailor therapies, perhaps integrating genomics with ml to predict drug responses. that's a hot topic with precision medicine.  another thought: predictive analytics for patient outcomes. hospitals could use ml to predict readmissions or complications. but what data would be needed? ehrs are a source, but they're messy. maybe a project on cleaning or integrating diverse data sources. also, handling missing data in medical records is a challenge. federated learning could be useful here, allowing models to learn from multiple institutions without sharing sensitive data.  medical imaging is another area. improving image analysis for things like mri or ct scans. maybe using gans to generate synthetic medical images for training models when data is scarce. or developing more efficient models that can run on mobile devices for point-of-care diagnostics.  drug discovery is time-consuming and costly. ml can accelerate this by predicting molecule interactions. reinforcement learning for optimizing drug candidates? or using nlp to mine existing research papers for potential drug repurposing.  wearables and remote monitoring are growing. time-series data from devices can predict health events like seizures or heart attacks. maybe real-time processing with edge ml models. privacy-preserving techniques here would be important.  mental health is another area. using nlp to analyze speech or text for signs of depression or anxiety. chatbots for early intervention, but ethical considerations are crucial.  ethics and bias in healthcare ml models. ensuring models don't perpetuate disparities. research on fairness in diagnostic algorithms, especially across diverse populations.  collaboration with clinicians is key. maybe a study on how to better integrate ml tools into clinical workflows without disrupting them. or evaluating the impact of ml-assisted decisions on patient outcomes.  i should offer these ideas as starting points but also ask the user if they have a specific interest or challenge they want to tackle. maybe they prefer a particular\""
      ]
     },
     "execution_count": 5,
     "metadata": {},
     "output_type": "execute_result"
    }
   ],
   "source": [
    "fur_response"
   ]
  },
  {
   "cell_type": "code",
   "execution_count": null,
   "metadata": {},
   "outputs": [],
   "source": [
    "llm_response, fur_response, messages = brainstorm(query = query, messages=messages)\n"
   ]
  }
 ],
 "metadata": {
  "kernelspec": {
   "display_name": "base",
   "language": "python",
   "name": "python3"
  },
  "language_info": {
   "codemirror_mode": {
    "name": "ipython",
    "version": 3
   },
   "file_extension": ".py",
   "mimetype": "text/x-python",
   "name": "python",
   "nbconvert_exporter": "python",
   "pygments_lexer": "ipython3",
   "version": "3.11.5"
  }
 },
 "nbformat": 4,
 "nbformat_minor": 2
}
